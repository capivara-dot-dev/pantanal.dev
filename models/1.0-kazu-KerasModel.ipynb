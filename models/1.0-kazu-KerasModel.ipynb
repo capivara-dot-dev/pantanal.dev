{
 "cells": [
  {
   "attachments": {},
   "cell_type": "markdown",
   "metadata": {},
   "source": [
    "# Keras Model - BERTmultilingual\n",
    "\n",
    "Here we'll be finetuning a bertmultilingual model using the Keras api."
   ]
  },
  {
   "attachments": {},
   "cell_type": "markdown",
   "metadata": {},
   "source": [
    "Making the necessary imports."
   ]
  },
  {
   "cell_type": "code",
   "execution_count": 34,
   "metadata": {
    "execution": {
     "iopub.execute_input": "2023-05-07T03:18:47.047846Z",
     "iopub.status.busy": "2023-05-07T03:18:47.047365Z",
     "iopub.status.idle": "2023-05-07T03:18:47.054543Z",
     "shell.execute_reply": "2023-05-07T03:18:47.053368Z",
     "shell.execute_reply.started": "2023-05-07T03:18:47.047808Z"
    },
    "trusted": true
   },
   "outputs": [],
   "source": [
    "import matplotlib.pyplot as plt\n",
    "import numpy as np\n",
    "import pandas as pd\n",
    "import sklearn.metrics as metrics\n",
    "import tensorflow as tf\n",
    "from sklearn.model_selection import train_test_split\n",
    "from tensorflow.keras.callbacks import EarlyStopping\n",
    "from transformers import BertTokenizer, TFBertForSequenceClassification"
   ]
  },
  {
   "attachments": {},
   "cell_type": "markdown",
   "metadata": {},
   "source": [
    "## Preparing the data"
   ]
  },
  {
   "attachments": {},
   "cell_type": "markdown",
   "metadata": {},
   "source": [
    "Reading the data and renaming the `y` column."
   ]
  },
  {
   "cell_type": "code",
   "execution_count": 5,
   "metadata": {
    "execution": {
     "iopub.execute_input": "2023-05-07T02:29:23.066524Z",
     "iopub.status.busy": "2023-05-07T02:29:23.066160Z",
     "iopub.status.idle": "2023-05-07T02:29:23.122371Z",
     "shell.execute_reply": "2023-05-07T02:29:23.121559Z",
     "shell.execute_reply.started": "2023-05-07T02:29:23.066484Z"
    },
    "trusted": true
   },
   "outputs": [],
   "source": [
    "data = pd.read_csv(\n",
    "    \"/kaggle/input/financial-phrase-bank-portuguese-translation/financial_phrase_bank_pt_br.csv\"\n",
    ")\n",
    "data = data.rename(columns={\"y\": \"labels\"})"
   ]
  },
  {
   "attachments": {},
   "cell_type": "markdown",
   "metadata": {},
   "source": [
    "Droping the `text` column, here we have an english column, and we're interested in finetuning the model using the portugues column."
   ]
  },
  {
   "cell_type": "code",
   "execution_count": 6,
   "metadata": {
    "execution": {
     "iopub.execute_input": "2023-05-07T02:29:25.619676Z",
     "iopub.status.busy": "2023-05-07T02:29:25.619285Z",
     "iopub.status.idle": "2023-05-07T02:29:25.630749Z",
     "shell.execute_reply": "2023-05-07T02:29:25.629443Z",
     "shell.execute_reply.started": "2023-05-07T02:29:25.619645Z"
    },
    "trusted": true
   },
   "outputs": [],
   "source": [
    "data = data.drop(columns=[\"text\"])"
   ]
  },
  {
   "attachments": {},
   "cell_type": "markdown",
   "metadata": {},
   "source": [
    "Transforming the `labels` columns so it represents our data in a way that the model will understand to predict."
   ]
  },
  {
   "cell_type": "code",
   "execution_count": 7,
   "metadata": {
    "execution": {
     "iopub.execute_input": "2023-05-07T02:29:27.278384Z",
     "iopub.status.busy": "2023-05-07T02:29:27.278051Z",
     "iopub.status.idle": "2023-05-07T02:29:27.287566Z",
     "shell.execute_reply": "2023-05-07T02:29:27.286556Z",
     "shell.execute_reply.started": "2023-05-07T02:29:27.278359Z"
    },
    "trusted": true
   },
   "outputs": [],
   "source": [
    "def transform(x: str):\n",
    "    if x == \"neutral\":\n",
    "        return 2\n",
    "    elif x == \"negative\":\n",
    "        return 1\n",
    "    else:\n",
    "        return 0\n",
    "\n",
    "\n",
    "data[\"labels\"] = data[\"labels\"].apply(transform)"
   ]
  },
  {
   "attachments": {},
   "cell_type": "markdown",
   "metadata": {},
   "source": [
    "Droping all rows where we don't have any text."
   ]
  },
  {
   "cell_type": "code",
   "execution_count": 8,
   "metadata": {
    "execution": {
     "iopub.execute_input": "2023-05-07T02:29:30.026491Z",
     "iopub.status.busy": "2023-05-07T02:29:30.026057Z",
     "iopub.status.idle": "2023-05-07T02:29:30.037472Z",
     "shell.execute_reply": "2023-05-07T02:29:30.036509Z",
     "shell.execute_reply.started": "2023-05-07T02:29:30.026453Z"
    },
    "trusted": true
   },
   "outputs": [],
   "source": [
    "data = data.dropna(subset=[\"text_pt\"])"
   ]
  },
  {
   "attachments": {},
   "cell_type": "markdown",
   "metadata": {},
   "source": [
    "Setting lists for the labels and the text."
   ]
  },
  {
   "cell_type": "code",
   "execution_count": 9,
   "metadata": {
    "execution": {
     "iopub.execute_input": "2023-05-07T02:29:32.607354Z",
     "iopub.status.busy": "2023-05-07T02:29:32.607009Z",
     "iopub.status.idle": "2023-05-07T02:29:32.612247Z",
     "shell.execute_reply": "2023-05-07T02:29:32.611259Z",
     "shell.execute_reply.started": "2023-05-07T02:29:32.607327Z"
    },
    "trusted": true
   },
   "outputs": [],
   "source": [
    "text = data[\"text_pt\"].tolist()\n",
    "labels = data[\"labels\"].tolist()"
   ]
  },
  {
   "attachments": {},
   "cell_type": "markdown",
   "metadata": {},
   "source": [
    "Importing our base model and the tokenizer."
   ]
  },
  {
   "cell_type": "code",
   "execution_count": null,
   "metadata": {
    "execution": {
     "iopub.execute_input": "2023-05-07T02:29:34.231713Z",
     "iopub.status.busy": "2023-05-07T02:29:34.231304Z",
     "iopub.status.idle": "2023-05-07T02:29:55.792695Z",
     "shell.execute_reply": "2023-05-07T02:29:55.791586Z",
     "shell.execute_reply.started": "2023-05-07T02:29:34.231680Z"
    },
    "trusted": true
   },
   "outputs": [],
   "source": [
    "tokenizer = BertTokenizer.from_pretrained(\"bert-base-multilingual-cased\")\n",
    "model = TFBertForSequenceClassification.from_pretrained(\n",
    "    \"bert-base-multilingual-cased\", num_labels=3\n",
    ")"
   ]
  },
  {
   "attachments": {},
   "cell_type": "markdown",
   "metadata": {},
   "source": [
    "\"Tokenizing\" our texts."
   ]
  },
  {
   "cell_type": "code",
   "execution_count": 12,
   "metadata": {
    "execution": {
     "iopub.execute_input": "2023-05-07T02:30:25.120565Z",
     "iopub.status.busy": "2023-05-07T02:30:25.119964Z",
     "iopub.status.idle": "2023-05-07T02:30:28.991434Z",
     "shell.execute_reply": "2023-05-07T02:30:28.990463Z",
     "shell.execute_reply.started": "2023-05-07T02:30:25.120497Z"
    },
    "trusted": true
   },
   "outputs": [],
   "source": [
    "encodings = tokenizer(text, truncation=True, padding=True)"
   ]
  },
  {
   "attachments": {},
   "cell_type": "markdown",
   "metadata": {},
   "source": [
    "Making the separation between train, test and validation for using during training.\n",
    "\n",
    "We're using `scikit-learn train_test_split` so we can have the following ratio:\n",
    "\n",
    "70% - training\n",
    "\n",
    "15% - validation\n",
    "\n",
    "15% - tests"
   ]
  },
  {
   "cell_type": "code",
   "execution_count": 13,
   "metadata": {
    "execution": {
     "iopub.execute_input": "2023-05-07T02:30:29.000411Z",
     "iopub.status.busy": "2023-05-07T02:30:28.997600Z",
     "iopub.status.idle": "2023-05-07T02:30:29.040785Z",
     "shell.execute_reply": "2023-05-07T02:30:29.039845Z",
     "shell.execute_reply.started": "2023-05-07T02:30:29.000379Z"
    },
    "trusted": true
   },
   "outputs": [],
   "source": [
    "input_ids = encodings[\"input_ids\"]\n",
    "attention_masks = encodings[\"attention_mask\"]\n",
    "token_type_ids = encodings[\"token_type_ids\"]\n",
    "\n",
    "# Split the encoded data and labels into train and temporary sets\n",
    "train_inputs, tmp_inputs, train_labels, tmp_labels = train_test_split(\n",
    "    input_ids, labels, test_size=0.3, random_state=42, shuffle=True, stratify=labels\n",
    ")\n",
    "train_masks, tmp_masks, _, _ = train_test_split(\n",
    "    attention_masks,\n",
    "    labels,\n",
    "    test_size=0.3,\n",
    "    random_state=42,\n",
    "    shuffle=True,\n",
    "    stratify=labels,\n",
    ")\n",
    "train_token_type_ids, tmp_token_type_ids, _, _ = train_test_split(\n",
    "    token_type_ids,\n",
    "    labels,\n",
    "    test_size=0.3,\n",
    "    random_state=42,\n",
    "    shuffle=True,\n",
    "    stratify=labels,\n",
    ")\n",
    "\n",
    "# Split the temporary set into validation and test sets\n",
    "val_inputs, test_inputs, val_labels, test_labels = train_test_split(\n",
    "    tmp_inputs,\n",
    "    tmp_labels,\n",
    "    test_size=0.5,\n",
    "    random_state=42,\n",
    "    shuffle=True,\n",
    "    stratify=tmp_labels,\n",
    ")\n",
    "val_masks, test_masks, _, _ = train_test_split(\n",
    "    tmp_masks,\n",
    "    tmp_labels,\n",
    "    test_size=0.5,\n",
    "    random_state=42,\n",
    "    shuffle=True,\n",
    "    stratify=tmp_labels,\n",
    ")\n",
    "val_token_type_ids, test_token_type_ids, _, _ = train_test_split(\n",
    "    tmp_token_type_ids,\n",
    "    tmp_labels,\n",
    "    test_size=0.5,\n",
    "    random_state=42,\n",
    "    shuffle=True,\n",
    "    stratify=tmp_labels,\n",
    ")"
   ]
  },
  {
   "attachments": {},
   "cell_type": "markdown",
   "metadata": {},
   "source": [
    "Setting our datasets using `Tensorflow` datasets so we can pass it to the model."
   ]
  },
  {
   "cell_type": "code",
   "execution_count": null,
   "metadata": {},
   "outputs": [],
   "source": [
    "train_dataset = (\n",
    "    tf.data.Dataset.from_tensor_slices(\n",
    "        (\n",
    "            {\n",
    "                \"input_ids\": train_inputs,\n",
    "                \"attention_mask\": train_masks,\n",
    "                \"token_type_ids\": train_token_type_ids,\n",
    "            },\n",
    "            train_labels,\n",
    "        )\n",
    "    )\n",
    "    .shuffle(100)\n",
    "    .batch(2)\n",
    ")\n",
    "\n",
    "val_dataset = tf.data.Dataset.from_tensor_slices(\n",
    "    (\n",
    "        {\n",
    "            \"input_ids\": val_inputs,\n",
    "            \"attention_mask\": val_masks,\n",
    "            \"token_type_ids\": val_token_type_ids,\n",
    "        },\n",
    "        val_labels,\n",
    "    )\n",
    ").batch(2)\n",
    "\n",
    "test_dataset = tf.data.Dataset.from_tensor_slices(\n",
    "    (\n",
    "        {\n",
    "            \"input_ids\": test_inputs,\n",
    "            \"attention_mask\": test_masks,\n",
    "            \"token_type_ids\": test_token_type_ids,\n",
    "        },\n",
    "        test_labels,\n",
    "    )\n",
    ").batch(2)"
   ]
  },
  {
   "attachments": {},
   "cell_type": "markdown",
   "metadata": {},
   "source": [
    "## Training"
   ]
  },
  {
   "attachments": {},
   "cell_type": "markdown",
   "metadata": {},
   "source": [
    "Before training we set our hyperparameter optimizer, early stopping parameters and loss function.\n",
    "\n",
    "Then we call the `fit` method to train the model."
   ]
  },
  {
   "cell_type": "code",
   "execution_count": 14,
   "metadata": {
    "execution": {
     "iopub.execute_input": "2023-05-07T02:30:29.047245Z",
     "iopub.status.busy": "2023-05-07T02:30:29.046012Z",
     "iopub.status.idle": "2023-05-07T02:56:50.879274Z",
     "shell.execute_reply": "2023-05-07T02:56:50.878206Z",
     "shell.execute_reply.started": "2023-05-07T02:30:29.047214Z"
    },
    "trusted": true
   },
   "outputs": [
    {
     "name": "stdout",
     "output_type": "stream",
     "text": [
      "Epoch 1/20\n",
      "1696/1696 [==============================] - 268s 130ms/step - loss: 0.7683 - accuracy: 0.6556 - val_loss: 0.5829 - val_accuracy: 0.7510\n",
      "Epoch 2/20\n",
      "1696/1696 [==============================] - 207s 122ms/step - loss: 0.4883 - accuracy: 0.8080 - val_loss: 0.4782 - val_accuracy: 0.8116\n",
      "Epoch 3/20\n",
      "1696/1696 [==============================] - 210s 124ms/step - loss: 0.3348 - accuracy: 0.8717 - val_loss: 0.4850 - val_accuracy: 0.8157\n",
      "Epoch 4/20\n",
      "1696/1696 [==============================] - 211s 124ms/step - loss: 0.2406 - accuracy: 0.9115 - val_loss: 0.5098 - val_accuracy: 0.8267\n",
      "Epoch 5/20\n",
      "1696/1696 [==============================] - 203s 120ms/step - loss: 0.1688 - accuracy: 0.9387 - val_loss: 0.5955 - val_accuracy: 0.8171\n",
      "Epoch 6/20\n",
      "1696/1696 [==============================] - 203s 120ms/step - loss: 0.1183 - accuracy: 0.9625 - val_loss: 0.6266 - val_accuracy: 0.8198\n",
      "Epoch 7/20\n",
      "1696/1696 [==============================] - 203s 120ms/step - loss: 0.0839 - accuracy: 0.9690 - val_loss: 0.6144 - val_accuracy: 0.8404\n",
      "364/364 [==============================] - 15s 41ms/step - loss: 0.5119 - accuracy: 0.7964\n",
      "Test loss: 0.5119097232818604\n",
      "Test accuracy: 0.7964236736297607\n"
     ]
    }
   ],
   "source": [
    "early_stopping = EarlyStopping(\n",
    "    patience=5, monitor=\"val_loss\", restore_best_weights=True\n",
    ")\n",
    "# Fine-tune the model\n",
    "optimizer = tf.keras.optimizers.Adam(learning_rate=2e-6)\n",
    "loss = tf.keras.losses.SparseCategoricalCrossentropy(from_logits=True)\n",
    "model.compile(optimizer=optimizer, loss=loss, metrics=[\"accuracy\"])\n",
    "history = model.fit(\n",
    "    train_dataset, validation_data=val_dataset, epochs=20, callbacks=[early_stopping]\n",
    ")\n",
    "\n",
    "# Evaluate the model on the test set\n",
    "loss, accuracy = model.evaluate(test_dataset)\n",
    "\n",
    "print(\"Test loss:\", loss)\n",
    "print(\"Test accuracy:\", accuracy)"
   ]
  },
  {
   "attachments": {},
   "cell_type": "markdown",
   "metadata": {},
   "source": [
    "## Evaluating the model\n",
    "\n",
    "Checking the model test loss and accuracy."
   ]
  },
  {
   "cell_type": "code",
   "execution_count": 18,
   "metadata": {
    "execution": {
     "iopub.execute_input": "2023-05-07T03:04:10.489923Z",
     "iopub.status.busy": "2023-05-07T03:04:10.489654Z",
     "iopub.status.idle": "2023-05-07T03:04:30.973180Z",
     "shell.execute_reply": "2023-05-07T03:04:30.972232Z",
     "shell.execute_reply.started": "2023-05-07T03:04:10.489900Z"
    },
    "trusted": true
   },
   "outputs": [
    {
     "name": "stdout",
     "output_type": "stream",
     "text": [
      "364/364 [==============================] - 15s 40ms/step - loss: 0.5119 - accuracy: 0.7964\n",
      "Test loss: 0.5119097232818604\n",
      "Test accuracy: 0.7964236736297607\n"
     ]
    }
   ],
   "source": [
    "loss, accuracy = model.evaluate(test_dataset)\n",
    "\n",
    "print(\"Test loss:\", loss)\n",
    "print(\"Test accuracy:\", accuracy)"
   ]
  },
  {
   "attachments": {},
   "cell_type": "markdown",
   "metadata": {},
   "source": [
    "Plotting the model train and val(eval) losses per epoch graph."
   ]
  },
  {
   "cell_type": "code",
   "execution_count": 23,
   "metadata": {
    "execution": {
     "iopub.execute_input": "2023-05-07T03:12:51.823593Z",
     "iopub.status.busy": "2023-05-07T03:12:51.819425Z",
     "iopub.status.idle": "2023-05-07T03:12:52.310404Z",
     "shell.execute_reply": "2023-05-07T03:12:52.309141Z",
     "shell.execute_reply.started": "2023-05-07T03:12:51.823530Z"
    },
    "trusted": true
   },
   "outputs": [
    {
     "data": {
      "text/plain": [
       "Text(0, 0.5, 'loss')"
      ]
     },
     "execution_count": 23,
     "metadata": {},
     "output_type": "execute_result"
    },
    {
     "data": {
      "image/png": "[encoded data removed]",
      "text/plain": [
       "<Figure size 640x480 with 1 Axes>"
      ]
     },
     "metadata": {},
     "output_type": "display_data"
    }
   ],
   "source": [
    "epochs = history.epoch\n",
    "loss = history.history[\"loss\"]\n",
    "val_loss = history.history[\"val_loss\"]\n",
    "\n",
    "plt.title(\"model\")\n",
    "plt.plot(loss, label=\"train\")\n",
    "plt.plot(val_loss, label=\"eval\")\n",
    "plt.legend()\n",
    "plt.xlabel(\"epochs\")\n",
    "plt.ylabel(\"loss\")"
   ]
  },
  {
   "attachments": {},
   "cell_type": "markdown",
   "metadata": {},
   "source": [
    "Remaking the test dataset so we can make predictions and get better test metrics."
   ]
  },
  {
   "cell_type": "code",
   "execution_count": 25,
   "metadata": {
    "execution": {
     "iopub.execute_input": "2023-05-07T03:15:53.491300Z",
     "iopub.status.busy": "2023-05-07T03:15:53.490451Z",
     "iopub.status.idle": "2023-05-07T03:16:11.441501Z",
     "shell.execute_reply": "2023-05-07T03:16:11.440585Z",
     "shell.execute_reply.started": "2023-05-07T03:15:53.491248Z"
    },
    "trusted": true
   },
   "outputs": [
    {
     "name": "stdout",
     "output_type": "stream",
     "text": [
      "364/364 [==============================] - 17s 38ms/step\n"
     ]
    }
   ],
   "source": [
    "predict_dataset = tf.data.Dataset.from_tensor_slices(\n",
    "    (\n",
    "        {\n",
    "            \"input_ids\": test_inputs,\n",
    "            \"attention_mask\": test_masks,\n",
    "            \"token_type_ids\": test_token_type_ids,\n",
    "        }\n",
    "    )\n",
    ").batch(2)\n",
    "pred = model.predict(predict_dataset)"
   ]
  },
  {
   "attachments": {},
   "cell_type": "markdown",
   "metadata": {},
   "source": [
    "Passing each prediction to its own value in a list."
   ]
  },
  {
   "cell_type": "code",
   "execution_count": 33,
   "metadata": {
    "execution": {
     "iopub.execute_input": "2023-05-07T03:18:16.501515Z",
     "iopub.status.busy": "2023-05-07T03:18:16.500985Z",
     "iopub.status.idle": "2023-05-07T03:18:16.510758Z",
     "shell.execute_reply": "2023-05-07T03:18:16.509193Z",
     "shell.execute_reply.started": "2023-05-07T03:18:16.501467Z"
    },
    "trusted": true
   },
   "outputs": [],
   "source": [
    "rpred = [x.argmax().tolist() for x in pred[0]]"
   ]
  },
  {
   "attachments": {},
   "cell_type": "markdown",
   "metadata": {},
   "source": [
    "Comparing the predicted labels and the true labels and getting more interesting metrics, also ploting a confusion matrix for better metric visualization."
   ]
  },
  {
   "cell_type": "code",
   "execution_count": 35,
   "metadata": {
    "execution": {
     "iopub.execute_input": "2023-05-07T03:19:49.498483Z",
     "iopub.status.busy": "2023-05-07T03:19:49.497796Z",
     "iopub.status.idle": "2023-05-07T03:19:49.818881Z",
     "shell.execute_reply": "2023-05-07T03:19:49.817888Z",
     "shell.execute_reply.started": "2023-05-07T03:19:49.498439Z"
    },
    "trusted": true
   },
   "outputs": [
    {
     "name": "stdout",
     "output_type": "stream",
     "text": [
      "                       model Metrics\n",
      "\n",
      "              precision    recall  f1-score   support\n",
      "\n",
      "           0       0.70      0.71      0.71       204\n",
      "           1       0.68      0.75      0.71        91\n",
      "           2       0.87      0.85      0.86       432\n",
      "\n",
      "    accuracy                           0.80       727\n",
      "   macro avg       0.75      0.77      0.76       727\n",
      "weighted avg       0.80      0.80      0.80       727\n",
      "\n",
      "Accuracy score  =  0.796423658872077\n",
      "Precision score =  0.7994988907589828\n",
      "Recall score    =  0.796423658872077\n",
      "\n"
     ]
    },
    {
     "data": {
      "text/plain": [
       "<sklearn.metrics._plot.confusion_matrix.ConfusionMatrixDisplay at 0x766d0703b0d0>"
      ]
     },
     "execution_count": 35,
     "metadata": {},
     "output_type": "execute_result"
    },
    {
     "data": {
      "image/png": "[encoded data removed]",
      "text/plain": [
       "<Figure size 640x480 with 2 Axes>"
      ]
     },
     "metadata": {},
     "output_type": "display_data"
    }
   ],
   "source": [
    "print(\"                       model Metrics\")\n",
    "print()\n",
    "print(metrics.classification_report(test_labels, rpred))\n",
    "print(\"Accuracy score  = \", metrics.accuracy_score(test_labels, rpred))\n",
    "print(\n",
    "    \"Precision score = \",\n",
    "    metrics.precision_score(test_labels, rpred, average=\"weighted\"),\n",
    ")\n",
    "print(\n",
    "    \"Recall score    = \", metrics.recall_score(test_labels, rpred, average=\"weighted\")\n",
    ")\n",
    "print()\n",
    "confusionmatrix = metrics.confusion_matrix(test_labels, rpred)\n",
    "confusion = metrics.ConfusionMatrixDisplay(confusionmatrix)\n",
    "confusion.plot(xticks_rotation=\"vertical\")"
   ]
  }
 ],
 "metadata": {
  "kernelspec": {
   "display_name": "Python 3",
   "language": "python",
   "name": "python3"
  },
  "language_info": {
   "codemirror_mode": {
    "name": "ipython",
    "version": 3
   },
   "file_extension": ".py",
   "mimetype": "text/x-python",
   "name": "python",
   "nbconvert_exporter": "python",
   "pygments_lexer": "ipython3",
   "version": "3.10.10"
  }
 },
 "nbformat": 4,
 "nbformat_minor": 4
}
