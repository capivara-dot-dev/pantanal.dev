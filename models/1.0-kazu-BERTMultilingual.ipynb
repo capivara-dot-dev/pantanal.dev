{
 "cells": [
  {
   "attachments": {},
   "cell_type": "markdown",
   "metadata": {},
   "source": [
    "# BERTMultlingual training\n",
    "\n",
    "Here we'll be training a BERTMultilingual model"
   ]
  },
  {
   "cell_type": "markdown",
   "metadata": {},
   "source": []
  },
  {
   "attachments": {},
   "cell_type": "markdown",
   "metadata": {},
   "source": [
    "Making the necessary imports"
   ]
  },
  {
   "cell_type": "code",
   "execution_count": 13,
   "metadata": {
    "id": "2gKuIxLolCN9"
   },
   "outputs": [],
   "source": [
    "import multiprocessing\n",
    "import os\n",
    "import time\n",
    "\n",
    "import matplotlib.pyplot as plt\n",
    "import numpy as np\n",
    "import pandas as pd\n",
    "import sklearn.metrics as metrics\n",
    "import tensorflow as tf\n",
    "import torch\n",
    "from sklearn.model_selection import train_test_split\n",
    "from torch.nn import CrossEntropyLoss\n",
    "from torch.optim import AdamW\n",
    "from transformers import BertForSequenceClassification, BertTokenizer, get_scheduler"
   ]
  },
  {
   "attachments": {},
   "cell_type": "markdown",
   "metadata": {},
   "source": [
    "## Preparing the data"
   ]
  },
  {
   "attachments": {},
   "cell_type": "markdown",
   "metadata": {},
   "source": [
    "Reading the data and renaming the `y` column.\n"
   ]
  },
  {
   "cell_type": "code",
   "execution_count": 3,
   "metadata": {
    "id": "bzfFeqP9lTF_"
   },
   "outputs": [],
   "source": [
    "data = pd.read_csv(\"/content/financial_phrase_bank_pt_br.csv\")\n",
    "data = data.rename(columns={\"y\": \"labels\"})"
   ]
  },
  {
   "attachments": {},
   "cell_type": "markdown",
   "metadata": {},
   "source": [
    "Droping the `text` column, here we have an english column, and we're interested in finetuning the model using the portugues column."
   ]
  },
  {
   "cell_type": "code",
   "execution_count": 4,
   "metadata": {
    "id": "u24bfBTe_yYn"
   },
   "outputs": [],
   "source": [
    "data = data.drop(columns=[\"text\"])"
   ]
  },
  {
   "cell_type": "markdown",
   "metadata": {},
   "source": [
    "Transforming the `labels` columns so it represents our data in a way that the model will understand to predict."
   ]
  },
  {
   "cell_type": "code",
   "execution_count": 5,
   "metadata": {
    "id": "-mrINQjZ_7xC"
   },
   "outputs": [],
   "source": [
    "def transform(x: str):\n",
    "    if x == \"neutral\":\n",
    "        return 2\n",
    "    elif x == \"negative\":\n",
    "        return 1\n",
    "    else:\n",
    "        return 0\n",
    "\n",
    "\n",
    "data[\"labels\"] = data[\"labels\"].apply(transform)"
   ]
  },
  {
   "cell_type": "markdown",
   "metadata": {},
   "source": [
    "Droping all rows where we don't have any text."
   ]
  },
  {
   "cell_type": "code",
   "execution_count": 6,
   "metadata": {
    "id": "Q6zZaneaASNo"
   },
   "outputs": [],
   "source": [
    "data = data.dropna(subset=[\"text_pt\"])"
   ]
  },
  {
   "cell_type": "markdown",
   "metadata": {},
   "source": [
    "Setting lists for the labels and the text."
   ]
  },
  {
   "cell_type": "code",
   "execution_count": 7,
   "metadata": {
    "id": "d7SrA9lonSNy"
   },
   "outputs": [],
   "source": [
    "text = data[\"text_pt\"].tolist()\n",
    "labels = data[\"labels\"].tolist()"
   ]
  },
  {
   "cell_type": "markdown",
   "metadata": {},
   "source": [
    "Importing our base model and the tokenizer."
   ]
  },
  {
   "cell_type": "code",
   "execution_count": null,
   "metadata": {
    "colab": {
     "base_uri": "https://localhost:8080/",
     "height": 156,
     "referenced_widgets": [
      "6ced0f3d43344397a2df8fa31742a581",
      "1e36c9a049b24324ab019a75d40af3d1",
      "30968bcba5644c1caeecd28330f0f48c",
      "96c170dc374b424d99d60a704bfd261e",
      "5b9ef0f3a4bb4a6485973cf9b99be23c",
      "5d04f4cfa9bf4e7ab369c9be10c9086a",
      "525625ecf6a04d70a55fa42d12dda5a1",
      "78581cf6c80444f1afbb0e7b9574b9a6",
      "c3218cadf1994f2280060b9d3d6cea91",
      "a12b8e2abb6443be9ff6837a5e874d8b",
      "3dd30e8154e44c80844de8e33f281a22"
     ]
    },
    "id": "6Z433JSLlFuf",
    "outputId": "7f68fee7-9c10-4751-8687-012c67708888"
   },
   "outputs": [],
   "source": [
    "tokenizer = BertTokenizer.from_pretrained(\"bert-base-multilingual-cased\")\n",
    "model = BertForSequenceClassification.from_pretrained(\n",
    "    \"bert-base-multilingual-cased\", num_labels=3\n",
    ")"
   ]
  },
  {
   "cell_type": "markdown",
   "metadata": {},
   "source": [
    "\"Tokenizing\" our texts."
   ]
  },
  {
   "cell_type": "code",
   "execution_count": 10,
   "metadata": {
    "id": "k25It8YJ1Ule"
   },
   "outputs": [],
   "source": [
    "encodings = tokenizer(text, truncation=True, padding=True)"
   ]
  },
  {
   "cell_type": "markdown",
   "metadata": {},
   "source": [
    "Making the separation between train, test and validation for using during training.\n",
    "\n",
    "We're using `scikit-learn train_test_split` so we can have the following ratio:\n",
    "\n",
    "70% - training\n",
    "\n",
    "15% - validation\n",
    "\n",
    "15% - tests"
   ]
  },
  {
   "cell_type": "code",
   "execution_count": 11,
   "metadata": {
    "id": "hb90V3ZIl88-"
   },
   "outputs": [],
   "source": [
    "input_ids = encodings[\"input_ids\"]\n",
    "attention_masks = encodings[\"attention_mask\"]\n",
    "token_type_ids = encodings[\"token_type_ids\"]\n",
    "\n",
    "# Split the encoded data and labels into train and temporary sets\n",
    "train_inputs, tmp_inputs, train_labels, tmp_labels = train_test_split(\n",
    "    input_ids, labels, test_size=0.3, random_state=42, shuffle=True, stratify=labels\n",
    ")\n",
    "train_masks, tmp_masks, _, _ = train_test_split(\n",
    "    attention_masks,\n",
    "    labels,\n",
    "    test_size=0.3,\n",
    "    random_state=42,\n",
    "    shuffle=True,\n",
    "    stratify=labels,\n",
    ")\n",
    "train_token_type_ids, tmp_token_type_ids, _, _ = train_test_split(\n",
    "    token_type_ids,\n",
    "    labels,\n",
    "    test_size=0.3,\n",
    "    random_state=42,\n",
    "    shuffle=True,\n",
    "    stratify=labels,\n",
    ")\n",
    "\n",
    "# Split the temporary set into validation and test sets\n",
    "val_inputs, test_inputs, val_labels, test_labels = train_test_split(\n",
    "    tmp_inputs,\n",
    "    tmp_labels,\n",
    "    test_size=0.5,\n",
    "    random_state=42,\n",
    "    shuffle=True,\n",
    "    stratify=tmp_labels,\n",
    ")\n",
    "val_masks, test_masks, _, _ = train_test_split(\n",
    "    tmp_masks,\n",
    "    tmp_labels,\n",
    "    test_size=0.5,\n",
    "    random_state=42,\n",
    "    shuffle=True,\n",
    "    stratify=tmp_labels,\n",
    ")\n",
    "val_token_type_ids, test_token_type_ids, _, _ = train_test_split(\n",
    "    tmp_token_type_ids,\n",
    "    tmp_labels,\n",
    "    test_size=0.5,\n",
    "    random_state=42,\n",
    "    shuffle=True,\n",
    "    stratify=tmp_labels,\n",
    ")"
   ]
  },
  {
   "attachments": {},
   "cell_type": "markdown",
   "metadata": {},
   "source": [
    "Setting our \"datasets\" so we can pass it to the model."
   ]
  },
  {
   "cell_type": "code",
   "execution_count": 30,
   "metadata": {
    "id": "7s9GmjvgnrNY"
   },
   "outputs": [],
   "source": [
    "train_dataset = [\n",
    "    [train_inputs[x], train_masks[x], train_token_type_ids[x], train_labels[x]]\n",
    "    for x in range(len(train_inputs))\n",
    "]\n",
    "\n",
    "val_dataset = [\n",
    "    [val_inputs[x], val_masks[x], val_token_type_ids[x], val_labels[x]]\n",
    "    for x in range(len(val_inputs))\n",
    "]\n",
    "\n",
    "test_dataset = [\n",
    "    [test_inputs[x], test_masks[x], test_token_type_ids[x], test_labels[x]]\n",
    "    for x in range(len(test_inputs))\n",
    "]"
   ]
  },
  {
   "cell_type": "markdown",
   "metadata": {},
   "source": [
    "## Training"
   ]
  },
  {
   "cell_type": "markdown",
   "metadata": {},
   "source": [
    "Here we stabilish the main function for finetuning the model"
   ]
  },
  {
   "cell_type": "code",
   "execution_count": 33,
   "metadata": {
    "id": "Z8ThWEjB4-Pz"
   },
   "outputs": [],
   "source": [
    "def finetune_model():\n",
    "    device = (\n",
    "        torch.device(\"cuda:0\") if torch.cuda.is_available() else torch.device(\"cpu\")\n",
    "    )\n",
    "\n",
    "    model.to(device)\n",
    "\n",
    "    learning_rate = 2e-6\n",
    "    num_epochs = 100\n",
    "    adam_epsilon = 1e-8\n",
    "\n",
    "    optimizer = AdamW(model.parameters(), lr=learning_rate, eps=adam_epsilon)\n",
    "    total_steps = len(train_dataset) * num_epochs\n",
    "\n",
    "    lr_scheduler = get_scheduler(\n",
    "        name=\"linear\",\n",
    "        optimizer=optimizer,\n",
    "        num_warmup_steps=0,\n",
    "        num_training_steps=total_steps,\n",
    "    )\n",
    "\n",
    "    def epoch_time(start_time, end_time):\n",
    "        elapsed_time = end_time - start_time\n",
    "        elapsed_mins = int(elapsed_time / 60)\n",
    "        elapsed_secs = int(elapsed_time - (elapsed_mins * 60))\n",
    "        return elapsed_mins, elapsed_secs\n",
    "\n",
    "    train_losses = []\n",
    "    val_losses = []\n",
    "    best_loss = None\n",
    "    early_stop_min_delta = 0\n",
    "    patience_time = 15\n",
    "    last_best_result = 0\n",
    "    criterion = CrossEntropyLoss()\n",
    "\n",
    "    for n in range(num_epochs):\n",
    "        train_loss = 0\n",
    "        val_loss = 0\n",
    "        start_time = time.time()\n",
    "\n",
    "        lloss = []\n",
    "        model.train()\n",
    "        for step in range(len(train_dataset)):\n",
    "            batch = train_dataset[step]\n",
    "            input_ids = torch.tensor([batch[0]]).to(device)\n",
    "            attention_mask = torch.tensor([batch[1]]).to(device)\n",
    "            token_type_ids = torch.tensor([batch[2]]).to(device)\n",
    "            labels = torch.tensor([batch[3]]).to(device)\n",
    "\n",
    "            output = model(\n",
    "                input_ids=input_ids,\n",
    "                attention_mask=attention_mask,\n",
    "                token_type_ids=token_type_ids,\n",
    "            )\n",
    "            train_loss = criterion(output.logits, labels)\n",
    "            train_loss.backward()\n",
    "            optimizer.step()\n",
    "            lr_scheduler.step()\n",
    "            optimizer.zero_grad()\n",
    "            lloss.append(train_loss.item())\n",
    "\n",
    "        avg_train_loss = np.mean(lloss)\n",
    "        train_losses.append(avg_train_loss)\n",
    "\n",
    "        lloss = []\n",
    "        model.eval()\n",
    "\n",
    "        with torch.no_grad():\n",
    "            for step in range(len(val_dataset)):\n",
    "                batch = val_dataset[step]\n",
    "                input_ids = torch.tensor([batch[0]]).to(device)\n",
    "                attention_mask = torch.tensor([batch[1]]).to(device)\n",
    "                token_type_ids = torch.tensor([batch[2]]).to(device)\n",
    "                labels = torch.tensor([batch[3]]).to(device)\n",
    "\n",
    "                output = model(\n",
    "                    input_ids=input_ids,\n",
    "                    token_type_ids=token_type_ids,\n",
    "                    attention_mask=attention_mask,\n",
    "                )\n",
    "                val_loss = criterion(output.logits, torch.tensor([batch[3]]).to(device))\n",
    "                lloss.append(val_loss.item())\n",
    "\n",
    "        avg_val_loss = np.mean(lloss)\n",
    "        val_losses.append(avg_val_loss)\n",
    "\n",
    "        print(f\"\\nTrain loss after iteration {n}: {avg_train_loss}\")\n",
    "        print(f\"Validation loss after iteration {n}: {avg_val_loss}\")\n",
    "        end_time = time.time()\n",
    "        epoch_mins, epoch_secs = epoch_time(start_time, end_time)\n",
    "        print(f\"Time: {epoch_mins}m {epoch_secs}s\")\n",
    "\n",
    "        if best_loss == None:\n",
    "            best_loss = avg_val_loss\n",
    "            last_best_result = 0\n",
    "            print(\"Best model found! saving...\")\n",
    "            actual_state = {\n",
    "                \"AdawW\": optimizer.state_dict(),\n",
    "                \"model\": model.state_dict(),\n",
    "                \"epoch\": num_epochs,\n",
    "                \"train_loss\": train_losses,\n",
    "                \"val_loss\": val_losses,\n",
    "            }\n",
    "            torch.save(actual_state, \"best_model.pth\")\n",
    "        elif best_loss - avg_val_loss < early_stop_min_delta:\n",
    "            best_loss = avg_val_loss\n",
    "            last_best_result = 0\n",
    "            print(\"Best model found! saving...\")\n",
    "            actual_state = {\n",
    "                \"AdawW\": optimizer.state_dict(),\n",
    "                \"model\": model.state_dict(),\n",
    "                \"epoch\": num_epochs,\n",
    "                \"train_loss\": train_losses,\n",
    "                \"val_loss\": val_losses,\n",
    "            }\n",
    "            torch.save(actual_state, \"best_model.pth\")\n",
    "        last_best_result += 1\n",
    "        print(\n",
    "            \"epoch %d loss_train %4.3f loss_eval %4.3f last_best %d\"\n",
    "            % (n, train_losses[-1], val_losses[-1], last_best_result)\n",
    "        )\n",
    "        if last_best_result > patience_time:\n",
    "            break"
   ]
  },
  {
   "attachments": {},
   "cell_type": "markdown",
   "metadata": {},
   "source": [
    "Calling the finetune function"
   ]
  },
  {
   "cell_type": "code",
   "execution_count": null,
   "metadata": {
    "colab": {
     "base_uri": "https://localhost:8080/",
     "height": 1000
    },
    "id": "XRBkiARMxkpD",
    "outputId": "dbf47009-c4e4-4b96-bcd1-866684fed5c1"
   },
   "outputs": [],
   "source": [
    "finetune_model()"
   ]
  },
  {
   "attachments": {},
   "cell_type": "markdown",
   "metadata": {},
   "source": [
    "## Evaluating the model\n",
    "\n",
    "First we set our device again for using torch."
   ]
  },
  {
   "cell_type": "code",
   "execution_count": 36,
   "metadata": {
    "id": "Xg0d9UVUXOwR"
   },
   "outputs": [],
   "source": [
    "device = torch.device(\"cuda:0\") if torch.cuda.is_available() else torch.device(\"cpu\")"
   ]
  },
  {
   "attachments": {},
   "cell_type": "markdown",
   "metadata": {},
   "source": [
    "Activate the model evaluation mode and make prediction in our test dataset."
   ]
  },
  {
   "cell_type": "code",
   "execution_count": 40,
   "metadata": {
    "id": "x0ldf_k-7q9f"
   },
   "outputs": [],
   "source": [
    "model.eval()\n",
    "lres = []\n",
    "ytrue = []\n",
    "with torch.no_grad():\n",
    "    for step in range(len(test_dataset)):\n",
    "        batch = test_dataset[step]\n",
    "        input_ids = torch.tensor([batch[0]]).to(device)\n",
    "        attention_mask = torch.tensor([batch[1]]).to(device)\n",
    "        token_type_ids = torch.tensor([batch[2]]).to(device)\n",
    "\n",
    "        output = model(\n",
    "            input_ids=input_ids,\n",
    "            token_type_ids=token_type_ids,\n",
    "            attention_mask=attention_mask,\n",
    "        )\n",
    "        res = output.logits.cpu()\n",
    "        ytrue.append(batch[3])\n",
    "        lres += res"
   ]
  },
  {
   "attachments": {},
   "cell_type": "markdown",
   "metadata": {},
   "source": [
    "Setting our predictions list for comparison."
   ]
  },
  {
   "cell_type": "code",
   "execution_count": 41,
   "metadata": {
    "id": "5iYXAzGSXoft"
   },
   "outputs": [],
   "source": [
    "ypred = [x.argmax(dim=0).cpu().tolist() for x in lres]"
   ]
  },
  {
   "attachments": {},
   "cell_type": "markdown",
   "metadata": {},
   "source": [
    "Printing our model metrics with a confusion matrix for better visualization."
   ]
  },
  {
   "cell_type": "code",
   "execution_count": 42,
   "metadata": {
    "colab": {
     "base_uri": "https://localhost:8080/",
     "height": 739
    },
    "id": "Ar6gFFHiXm96",
    "outputId": "5af466dc-4184-4d51-fb9c-3ee64e12a6b9"
   },
   "outputs": [
    {
     "name": "stdout",
     "output_type": "stream",
     "text": [
      "                       model Metrics\n",
      "\n",
      "              precision    recall  f1-score   support\n",
      "\n",
      "           0       0.80      0.71      0.75       204\n",
      "           1       0.78      0.71      0.75        91\n",
      "           2       0.84      0.90      0.87       432\n",
      "\n",
      "    accuracy                           0.82       727\n",
      "   macro avg       0.81      0.77      0.79       727\n",
      "weighted avg       0.82      0.82      0.82       727\n",
      "\n",
      "Accuracy score  =  0.8239339752407153\n",
      "Precision score =  0.8221449418565345\n",
      "Recall score    =  0.8239339752407153\n",
      "\n"
     ]
    },
    {
     "data": {
      "text/plain": [
       "<sklearn.metrics._plot.confusion_matrix.ConfusionMatrixDisplay at 0x7f0570623250>"
      ]
     },
     "execution_count": 42,
     "metadata": {},
     "output_type": "execute_result"
    },
    {
     "data": {
      "image/png": "[encoded data removed]",
      "text/plain": [
       "<Figure size 640x480 with 2 Axes>"
      ]
     },
     "metadata": {},
     "output_type": "display_data"
    }
   ],
   "source": [
    "print(\"                       model Metrics\")\n",
    "print()\n",
    "print(metrics.classification_report(ytrue, ypred))\n",
    "print(\"Accuracy score  = \", metrics.accuracy_score(ytrue, ypred))\n",
    "print(\"Precision score = \", metrics.precision_score(ytrue, ypred, average=\"weighted\"))\n",
    "print(\"Recall score    = \", metrics.recall_score(ytrue, ypred, average=\"weighted\"))\n",
    "print()\n",
    "confusionmatrix = metrics.confusion_matrix(ytrue, ypred)\n",
    "confusion = metrics.ConfusionMatrixDisplay(confusionmatrix)\n",
    "confusion.plot(xticks_rotation=\"vertical\")"
   ]
  }
 ],
 "metadata": {
  "accelerator": "GPU",
  "colab": {
   "provenance": []
  },
  "gpuClass": "standard",
  "kernelspec": {
   "display_name": "Python 3",
   "name": "python3"
  },
  "language_info": {
   "name": "python"
  },
  "widgets": {
   "application/vnd.jupyter.widget-state+json": {
    "1e36c9a049b24324ab019a75d40af3d1": {
     "model_module": "@jupyter-widgets/controls",
     "model_module_version": "1.5.0",
     "model_name": "HTMLModel",
     "state": {
      "_dom_classes": [],
      "_model_module": "@jupyter-widgets/controls",
      "_model_module_version": "1.5.0",
      "_model_name": "HTMLModel",
      "_view_count": null,
      "_view_module": "@jupyter-widgets/controls",
      "_view_module_version": "1.5.0",
      "_view_name": "HTMLView",
      "description": "",
      "description_tooltip": null,
      "layout": "IPY_MODEL_5d04f4cfa9bf4e7ab369c9be10c9086a",
      "placeholder": "​",
      "style": "IPY_MODEL_525625ecf6a04d70a55fa42d12dda5a1",
      "value": "Downloading pytorch_model.bin: 100%"
     }
    },
    "30968bcba5644c1caeecd28330f0f48c": {
     "model_module": "@jupyter-widgets/controls",
     "model_module_version": "1.5.0",
     "model_name": "FloatProgressModel",
     "state": {
      "_dom_classes": [],
      "_model_module": "@jupyter-widgets/controls",
      "_model_module_version": "1.5.0",
      "_model_name": "FloatProgressModel",
      "_view_count": null,
      "_view_module": "@jupyter-widgets/controls",
      "_view_module_version": "1.5.0",
      "_view_name": "ProgressView",
      "bar_style": "success",
      "description": "",
      "description_tooltip": null,
      "layout": "IPY_MODEL_78581cf6c80444f1afbb0e7b9574b9a6",
      "max": 714314041,
      "min": 0,
      "orientation": "horizontal",
      "style": "IPY_MODEL_c3218cadf1994f2280060b9d3d6cea91",
      "value": 714314041
     }
    },
    "3dd30e8154e44c80844de8e33f281a22": {
     "model_module": "@jupyter-widgets/controls",
     "model_module_version": "1.5.0",
     "model_name": "DescriptionStyleModel",
     "state": {
      "_model_module": "@jupyter-widgets/controls",
      "_model_module_version": "1.5.0",
      "_model_name": "DescriptionStyleModel",
      "_view_count": null,
      "_view_module": "@jupyter-widgets/base",
      "_view_module_version": "1.2.0",
      "_view_name": "StyleView",
      "description_width": ""
     }
    },
    "525625ecf6a04d70a55fa42d12dda5a1": {
     "model_module": "@jupyter-widgets/controls",
     "model_module_version": "1.5.0",
     "model_name": "DescriptionStyleModel",
     "state": {
      "_model_module": "@jupyter-widgets/controls",
      "_model_module_version": "1.5.0",
      "_model_name": "DescriptionStyleModel",
      "_view_count": null,
      "_view_module": "@jupyter-widgets/base",
      "_view_module_version": "1.2.0",
      "_view_name": "StyleView",
      "description_width": ""
     }
    },
    "5b9ef0f3a4bb4a6485973cf9b99be23c": {
     "model_module": "@jupyter-widgets/base",
     "model_module_version": "1.2.0",
     "model_name": "LayoutModel",
     "state": {
      "_model_module": "@jupyter-widgets/base",
      "_model_module_version": "1.2.0",
      "_model_name": "LayoutModel",
      "_view_count": null,
      "_view_module": "@jupyter-widgets/base",
      "_view_module_version": "1.2.0",
      "_view_name": "LayoutView",
      "align_content": null,
      "align_items": null,
      "align_self": null,
      "border": null,
      "bottom": null,
      "display": null,
      "flex": null,
      "flex_flow": null,
      "grid_area": null,
      "grid_auto_columns": null,
      "grid_auto_flow": null,
      "grid_auto_rows": null,
      "grid_column": null,
      "grid_gap": null,
      "grid_row": null,
      "grid_template_areas": null,
      "grid_template_columns": null,
      "grid_template_rows": null,
      "height": null,
      "justify_content": null,
      "justify_items": null,
      "left": null,
      "margin": null,
      "max_height": null,
      "max_width": null,
      "min_height": null,
      "min_width": null,
      "object_fit": null,
      "object_position": null,
      "order": null,
      "overflow": null,
      "overflow_x": null,
      "overflow_y": null,
      "padding": null,
      "right": null,
      "top": null,
      "visibility": null,
      "width": null
     }
    },
    "5d04f4cfa9bf4e7ab369c9be10c9086a": {
     "model_module": "@jupyter-widgets/base",
     "model_module_version": "1.2.0",
     "model_name": "LayoutModel",
     "state": {
      "_model_module": "@jupyter-widgets/base",
      "_model_module_version": "1.2.0",
      "_model_name": "LayoutModel",
      "_view_count": null,
      "_view_module": "@jupyter-widgets/base",
      "_view_module_version": "1.2.0",
      "_view_name": "LayoutView",
      "align_content": null,
      "align_items": null,
      "align_self": null,
      "border": null,
      "bottom": null,
      "display": null,
      "flex": null,
      "flex_flow": null,
      "grid_area": null,
      "grid_auto_columns": null,
      "grid_auto_flow": null,
      "grid_auto_rows": null,
      "grid_column": null,
      "grid_gap": null,
      "grid_row": null,
      "grid_template_areas": null,
      "grid_template_columns": null,
      "grid_template_rows": null,
      "height": null,
      "justify_content": null,
      "justify_items": null,
      "left": null,
      "margin": null,
      "max_height": null,
      "max_width": null,
      "min_height": null,
      "min_width": null,
      "object_fit": null,
      "object_position": null,
      "order": null,
      "overflow": null,
      "overflow_x": null,
      "overflow_y": null,
      "padding": null,
      "right": null,
      "top": null,
      "visibility": null,
      "width": null
     }
    },
    "6ced0f3d43344397a2df8fa31742a581": {
     "model_module": "@jupyter-widgets/controls",
     "model_module_version": "1.5.0",
     "model_name": "HBoxModel",
     "state": {
      "_dom_classes": [],
      "_model_module": "@jupyter-widgets/controls",
      "_model_module_version": "1.5.0",
      "_model_name": "HBoxModel",
      "_view_count": null,
      "_view_module": "@jupyter-widgets/controls",
      "_view_module_version": "1.5.0",
      "_view_name": "HBoxView",
      "box_style": "",
      "children": [
       "IPY_MODEL_1e36c9a049b24324ab019a75d40af3d1",
       "IPY_MODEL_30968bcba5644c1caeecd28330f0f48c",
       "IPY_MODEL_96c170dc374b424d99d60a704bfd261e"
      ],
      "layout": "IPY_MODEL_5b9ef0f3a4bb4a6485973cf9b99be23c"
     }
    },
    "78581cf6c80444f1afbb0e7b9574b9a6": {
     "model_module": "@jupyter-widgets/base",
     "model_module_version": "1.2.0",
     "model_name": "LayoutModel",
     "state": {
      "_model_module": "@jupyter-widgets/base",
      "_model_module_version": "1.2.0",
      "_model_name": "LayoutModel",
      "_view_count": null,
      "_view_module": "@jupyter-widgets/base",
      "_view_module_version": "1.2.0",
      "_view_name": "LayoutView",
      "align_content": null,
      "align_items": null,
      "align_self": null,
      "border": null,
      "bottom": null,
      "display": null,
      "flex": null,
      "flex_flow": null,
      "grid_area": null,
      "grid_auto_columns": null,
      "grid_auto_flow": null,
      "grid_auto_rows": null,
      "grid_column": null,
      "grid_gap": null,
      "grid_row": null,
      "grid_template_areas": null,
      "grid_template_columns": null,
      "grid_template_rows": null,
      "height": null,
      "justify_content": null,
      "justify_items": null,
      "left": null,
      "margin": null,
      "max_height": null,
      "max_width": null,
      "min_height": null,
      "min_width": null,
      "object_fit": null,
      "object_position": null,
      "order": null,
      "overflow": null,
      "overflow_x": null,
      "overflow_y": null,
      "padding": null,
      "right": null,
      "top": null,
      "visibility": null,
      "width": null
     }
    },
    "96c170dc374b424d99d60a704bfd261e": {
     "model_module": "@jupyter-widgets/controls",
     "model_module_version": "1.5.0",
     "model_name": "HTMLModel",
     "state": {
      "_dom_classes": [],
      "_model_module": "@jupyter-widgets/controls",
      "_model_module_version": "1.5.0",
      "_model_name": "HTMLModel",
      "_view_count": null,
      "_view_module": "@jupyter-widgets/controls",
      "_view_module_version": "1.5.0",
      "_view_name": "HTMLView",
      "description": "",
      "description_tooltip": null,
      "layout": "IPY_MODEL_a12b8e2abb6443be9ff6837a5e874d8b",
      "placeholder": "​",
      "style": "IPY_MODEL_3dd30e8154e44c80844de8e33f281a22",
      "value": " 714M/714M [00:04&lt;00:00, 156MB/s]"
     }
    },
    "a12b8e2abb6443be9ff6837a5e874d8b": {
     "model_module": "@jupyter-widgets/base",
     "model_module_version": "1.2.0",
     "model_name": "LayoutModel",
     "state": {
      "_model_module": "@jupyter-widgets/base",
      "_model_module_version": "1.2.0",
      "_model_name": "LayoutModel",
      "_view_count": null,
      "_view_module": "@jupyter-widgets/base",
      "_view_module_version": "1.2.0",
      "_view_name": "LayoutView",
      "align_content": null,
      "align_items": null,
      "align_self": null,
      "border": null,
      "bottom": null,
      "display": null,
      "flex": null,
      "flex_flow": null,
      "grid_area": null,
      "grid_auto_columns": null,
      "grid_auto_flow": null,
      "grid_auto_rows": null,
      "grid_column": null,
      "grid_gap": null,
      "grid_row": null,
      "grid_template_areas": null,
      "grid_template_columns": null,
      "grid_template_rows": null,
      "height": null,
      "justify_content": null,
      "justify_items": null,
      "left": null,
      "margin": null,
      "max_height": null,
      "max_width": null,
      "min_height": null,
      "min_width": null,
      "object_fit": null,
      "object_position": null,
      "order": null,
      "overflow": null,
      "overflow_x": null,
      "overflow_y": null,
      "padding": null,
      "right": null,
      "top": null,
      "visibility": null,
      "width": null
     }
    },
    "c3218cadf1994f2280060b9d3d6cea91": {
     "model_module": "@jupyter-widgets/controls",
     "model_module_version": "1.5.0",
     "model_name": "ProgressStyleModel",
     "state": {
      "_model_module": "@jupyter-widgets/controls",
      "_model_module_version": "1.5.0",
      "_model_name": "ProgressStyleModel",
      "_view_count": null,
      "_view_module": "@jupyter-widgets/base",
      "_view_module_version": "1.2.0",
      "_view_name": "StyleView",
      "bar_color": null,
      "description_width": ""
     }
    }
   }
  }
 },
 "nbformat": 4,
 "nbformat_minor": 0
}
