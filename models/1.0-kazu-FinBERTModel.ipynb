{
 "cells": [
  {
   "attachments": {},
   "cell_type": "markdown",
   "metadata": {},
   "source": [
    "# FinBERT training\n",
    "\n",
    "Here we'll be training the FinBERT model"
   ]
  },
  {
   "attachments": {},
   "cell_type": "markdown",
   "metadata": {},
   "source": [
    "Making the necessary imports."
   ]
  },
  {
   "cell_type": "code",
   "execution_count": null,
   "metadata": {
    "cell_id": "69cb2c5444fe415b9eaa8c411c22a79c",
    "deepnote_cell_type": "code",
    "deepnote_to_be_reexecuted": true,
    "execution_millis": 9393,
    "execution_start": 1683366327386,
    "id": "CZ72ILlddSI1",
    "source_hash": "9b9900b"
   },
   "outputs": [],
   "source": [
    "import multiprocessing\n",
    "import os\n",
    "import time\n",
    "\n",
    "import matplotlib.pyplot as plt\n",
    "import numpy as np\n",
    "import pandas as pd\n",
    "import sklearn.metrics as metrics\n",
    "import torch\n",
    "from sklearn.model_selection import train_test_split\n",
    "from torch.nn import CrossEntropyLoss\n",
    "from torch.optim import AdamW\n",
    "from transformers import AutoTokenizer, BertForSequenceClassification, get_scheduler"
   ]
  },
  {
   "attachments": {},
   "cell_type": "markdown",
   "metadata": {
    "cell_id": "0ee12e90c7c148fe8dd34cb55b7c67f6",
    "deepnote_cell_type": "markdown",
    "id": "pFUOvFgWdSI3"
   },
   "source": [
    "We're using the pretrained model of `lucas-leme/FinBERT-PT-BR`."
   ]
  },
  {
   "cell_type": "code",
   "execution_count": null,
   "metadata": {
    "cell_id": "3a54e25167754c4089cdfffd643a43c0",
    "deepnote_cell_type": "code",
    "deepnote_to_be_reexecuted": true,
    "execution_millis": 1689,
    "execution_start": 1683366336783,
    "id": "_xAuV-F5dSI-",
    "source_hash": "242ec37f"
   },
   "outputs": [],
   "source": [
    "rand_state = 42\n",
    "tokenizer = AutoTokenizer.from_pretrained(\"lucas-leme/FinBERT-PT-BR\")\n",
    "model = BertForSequenceClassification.from_pretrained(\"lucas-leme/FinBERT-PT-BR\")"
   ]
  },
  {
   "attachments": {},
   "cell_type": "markdown",
   "metadata": {},
   "source": [
    "## Data preparation"
   ]
  },
  {
   "attachments": {},
   "cell_type": "markdown",
   "metadata": {},
   "source": [
    "Reading our data and deleting a unnecessary column."
   ]
  },
  {
   "cell_type": "code",
   "execution_count": null,
   "metadata": {
    "cell_id": "63bfb89afc82487bb4145dabd68d6b92",
    "colab": {
     "base_uri": "https://localhost:8080/",
     "height": 424
    },
    "deepnote_cell_type": "code",
    "deepnote_to_be_reexecuted": true,
    "execution_millis": 134,
    "execution_start": 1683366338474,
    "id": "YE_ljWVgdSI-",
    "outputId": "c277c69a-0cf4-4d00-ee17-13a2c0b175a4",
    "source_hash": "5369d1be"
   },
   "outputs": [],
   "source": [
    "data = pd.read_csv(\"/content/train_data.csv\").drop(columns=[\"Unnamed: 0\"])\n",
    "data"
   ]
  },
  {
   "attachments": {},
   "cell_type": "markdown",
   "metadata": {},
   "source": [
    "Renaming `pred` column to `labels` for best understanding trough the rest of the notebook."
   ]
  },
  {
   "cell_type": "code",
   "execution_count": 93,
   "metadata": {
    "cell_id": "ee6fba6d63684732a10854096171fd0e",
    "deepnote_cell_type": "code",
    "deepnote_to_be_reexecuted": true,
    "execution_millis": 7,
    "execution_start": 1683366338610,
    "id": "b9dJ8oyjdSJC",
    "source_hash": "ab4de213"
   },
   "outputs": [],
   "source": [
    "data = data.rename(columns={\"pred\": \"labels\"})"
   ]
  },
  {
   "attachments": {},
   "cell_type": "markdown",
   "metadata": {
    "cell_id": "0ef5b0e4d2874f5dbf9b644b89a600ba",
    "deepnote_cell_type": "markdown",
    "id": "oEs_zMqidSJD"
   },
   "source": [
    "We need to set `TOKENIZERS_PARALLELISM` env variable to false to run this code, since we're doing our own parallelism."
   ]
  },
  {
   "cell_type": "code",
   "execution_count": 94,
   "metadata": {
    "cell_id": "9145c098fd4e46368717868ae2f87e5f",
    "deepnote_cell_type": "code",
    "deepnote_to_be_reexecuted": true,
    "execution_millis": 1,
    "execution_start": 1683366338665,
    "id": "H_gASu7_dSJE",
    "source_hash": "3221f355"
   },
   "outputs": [],
   "source": [
    "os.environ[\"TOKENIZERS_PARALLELISM\"] = \"false\""
   ]
  },
  {
   "attachments": {},
   "cell_type": "markdown",
   "metadata": {},
   "source": [
    "Tokenizing our data for model inference and training."
   ]
  },
  {
   "cell_type": "code",
   "execution_count": 95,
   "metadata": {
    "cell_id": "39c499c420de46b18b839a148619c774",
    "deepnote_cell_type": "code",
    "deepnote_to_be_reexecuted": true,
    "execution_millis": 2,
    "execution_start": 1683366338665,
    "id": "g3Q-swaPdSJG",
    "source_hash": "47850d69"
   },
   "outputs": [],
   "source": [
    "def worker(index, input_list, output_list):\n",
    "    text = input_list[index]\n",
    "    tokens = tokenizer(\n",
    "        text, return_tensors=\"pt\", padding=True, truncation=True, max_length=512\n",
    "    )\n",
    "\n",
    "    input_ids_value = torch.unsqueeze(tokens[\"input_ids\"][0], 0)\n",
    "    attention_mask_value = torch.unsqueeze(tokens[\"attention_mask\"][0], 0)\n",
    "    token_type_ids_value = torch.unsqueeze(tokens[\"token_type_ids\"][0], 0)\n",
    "\n",
    "    output_list[index] = {\n",
    "        \"input_ids\": input_ids_value,\n",
    "        \"attention_mask\": attention_mask_value,\n",
    "        \"token_type_ids\": token_type_ids_value,\n",
    "    }\n",
    "\n",
    "\n",
    "input_list = data[\"text\"]\n",
    "output_list = multiprocessing.Manager().list([None] * len(input_list))\n",
    "\n",
    "\n",
    "def main():\n",
    "    num_processes = multiprocessing.cpu_count()\n",
    "    with multiprocessing.Pool(processes=num_processes) as pool:\n",
    "        pool.starmap(\n",
    "            worker, [(i, input_list, output_list) for i in range(len(input_list))]\n",
    "        )"
   ]
  },
  {
   "attachments": {},
   "cell_type": "markdown",
   "metadata": {},
   "source": [
    "Calling the tokenizer"
   ]
  },
  {
   "cell_type": "code",
   "execution_count": 96,
   "metadata": {
    "id": "g4H6bpRxXrYx"
   },
   "outputs": [],
   "source": [
    "main()"
   ]
  },
  {
   "attachments": {},
   "cell_type": "markdown",
   "metadata": {},
   "source": [
    "Setting out data"
   ]
  },
  {
   "cell_type": "code",
   "execution_count": null,
   "metadata": {
    "cell_id": "bb3e20eff01942399a075ea2544cc9e6",
    "deepnote_cell_type": "code",
    "deepnote_to_be_reexecuted": true,
    "execution_millis": 3003,
    "execution_start": 1683366341266,
    "id": "ZgfOAittdSJK",
    "source_hash": "9582bfc0"
   },
   "outputs": [],
   "source": [
    "result = [x for x in output_list]\n",
    "data[\"text\"] = result\n",
    "data"
   ]
  },
  {
   "attachments": {},
   "cell_type": "markdown",
   "metadata": {},
   "source": [
    "Dividing our data in train, test and validation the ratio:\n",
    "\n",
    "70% - Training\n",
    "\n",
    "15% - Validation\n",
    "\n",
    "15% - Testing"
   ]
  },
  {
   "cell_type": "code",
   "execution_count": 98,
   "metadata": {
    "cell_id": "e502e15f7eb44e95981dbd58f0981e7e",
    "deepnote_cell_type": "code",
    "deepnote_to_be_reexecuted": true,
    "execution_millis": 7,
    "execution_start": 1683366344273,
    "id": "zHDog3mydSJM",
    "source_hash": "866406de"
   },
   "outputs": [],
   "source": [
    "train_idx, tmp_idx = train_test_split(\n",
    "    data, test_size=0.3, stratify=data[\"labels\"], random_state=rand_state, shuffle=True\n",
    ")\n",
    "val_idx, test_idx = train_test_split(\n",
    "    tmp_idx,\n",
    "    test_size=0.5,\n",
    "    random_state=rand_state,\n",
    "    shuffle=True,\n",
    "    stratify=tmp_idx[\"labels\"],\n",
    ")"
   ]
  },
  {
   "attachments": {},
   "cell_type": "markdown",
   "metadata": {},
   "source": [
    "## Finetuning the Model"
   ]
  },
  {
   "attachments": {},
   "cell_type": "markdown",
   "metadata": {},
   "source": [
    "Here we stabilish the main function for finetuning the model"
   ]
  },
  {
   "cell_type": "code",
   "execution_count": null,
   "metadata": {
    "cell_id": "408de99c8eea4500ac3ba06403a25003",
    "colab": {
     "base_uri": "https://localhost:8080/",
     "height": 1000
    },
    "deepnote_cell_type": "code",
    "deepnote_to_be_reexecuted": true,
    "execution_millis": 1,
    "execution_start": 1683366344436,
    "id": "EjXvH76ldSJN",
    "outputId": "49679e61-4476-4b04-ac4d-e9e4f6228f29",
    "source_hash": "bd21367f"
   },
   "outputs": [],
   "source": [
    "def finetune_model():\n",
    "    device = (\n",
    "        torch.device(\"cuda:0\") if torch.cuda.is_available() else torch.device(\"cpu\")\n",
    "    )\n",
    "\n",
    "    model.to(device)\n",
    "\n",
    "    learning_rate = 2e-6\n",
    "    num_epochs = 100\n",
    "    adam_epsilon = 1e-8\n",
    "\n",
    "    optimizer = AdamW(model.parameters(), lr=learning_rate, eps=adam_epsilon)\n",
    "    total_steps = len(train_idx) * num_epochs\n",
    "\n",
    "    lr_scheduler = get_scheduler(\n",
    "        name=\"linear\",\n",
    "        optimizer=optimizer,\n",
    "        num_warmup_steps=0,\n",
    "        num_training_steps=total_steps,\n",
    "    )\n",
    "\n",
    "    def epoch_time(start_time, end_time):\n",
    "        elapsed_time = end_time - start_time\n",
    "        elapsed_mins = int(elapsed_time / 60)\n",
    "        elapsed_secs = int(elapsed_time - (elapsed_mins * 60))\n",
    "        return elapsed_mins, elapsed_secs\n",
    "\n",
    "    train_losses = []\n",
    "    val_losses = []\n",
    "    best_loss = None\n",
    "    early_stop_min_delta = 0\n",
    "    patience_time = 15\n",
    "    last_best_result = 0\n",
    "    criterion = CrossEntropyLoss()\n",
    "\n",
    "    for n in range(num_epochs):\n",
    "        train_loss = 0\n",
    "        val_loss = 0\n",
    "        start_time = time.time()\n",
    "\n",
    "        lloss = []\n",
    "        model.train()\n",
    "        for step in range(len(train_idx)):\n",
    "            batch = train_idx.iloc[step]\n",
    "            input_ids = batch[\"text\"][\"input_ids\"].to(device)\n",
    "            token_type_ids = batch[\"text\"][\"token_type_ids\"].to(device)\n",
    "            attention_mask = batch[\"text\"][\"attention_mask\"].to(device)\n",
    "            labels = torch.tensor([batch[\"labels\"]]).to(device)\n",
    "\n",
    "            output = model(\n",
    "                input_ids=input_ids,\n",
    "                attention_mask=attention_mask,\n",
    "                token_type_ids=token_type_ids,\n",
    "            )\n",
    "            train_loss = criterion(output.logits, labels)\n",
    "            train_loss.backward()\n",
    "            optimizer.step()\n",
    "            lr_scheduler.step()\n",
    "            optimizer.zero_grad()\n",
    "            lloss.append(train_loss.item())\n",
    "\n",
    "        avg_train_loss = np.mean(lloss)\n",
    "        train_losses.append(avg_train_loss)\n",
    "\n",
    "        lloss = []\n",
    "        model.eval()\n",
    "\n",
    "        with torch.no_grad():\n",
    "            for step in range(len(val_idx)):\n",
    "                batch = val_idx.iloc[step]\n",
    "                input_ids = batch[\"text\"][\"input_ids\"].to(device)\n",
    "                token_type_ids = batch[\"text\"][\"token_type_ids\"].to(device)\n",
    "                attention_mask = batch[\"text\"][\"attention_mask\"].to(device)\n",
    "\n",
    "                output = model(\n",
    "                    input_ids=input_ids,\n",
    "                    token_type_ids=token_type_ids,\n",
    "                    attention_mask=attention_mask,\n",
    "                )\n",
    "                val_loss = criterion(\n",
    "                    output.logits, torch.tensor([batch[\"labels\"]]).to(device)\n",
    "                )\n",
    "                lloss.append(val_loss.item())\n",
    "\n",
    "        avg_val_loss = np.mean(lloss)\n",
    "        val_losses.append(avg_val_loss)\n",
    "\n",
    "        print(f\"\\nTrain loss after iteration {n}: {avg_train_loss}\")\n",
    "        print(f\"Validation loss after iteration {n}: {avg_val_loss}\")\n",
    "        end_time = time.time()\n",
    "        epoch_mins, epoch_secs = epoch_time(start_time, end_time)\n",
    "        print(f\"Time: {epoch_mins}m {epoch_secs}s\")\n",
    "\n",
    "        if best_loss == None:\n",
    "            best_loss = avg_val_loss\n",
    "            last_best_result = 0\n",
    "            print(\"Best model found! saving...\")\n",
    "            actual_state = {\n",
    "                \"AdawW\": optimizer.state_dict(),\n",
    "                \"model\": model.state_dict(),\n",
    "                \"epoch\": num_epochs,\n",
    "                \"train_loss\": train_losses,\n",
    "                \"val_loss\": val_losses,\n",
    "            }\n",
    "            torch.save(actual_state, \"best_model.pth\")\n",
    "        elif best_loss - avg_val_loss < early_stop_min_delta:\n",
    "            best_loss = avg_val_loss\n",
    "            last_best_result = 0\n",
    "            print(\"Best model found! saving...\")\n",
    "            actual_state = {\n",
    "                \"AdawW\": optimizer.state_dict(),\n",
    "                \"model\": model.state_dict(),\n",
    "                \"epoch\": num_epochs,\n",
    "                \"train_loss\": train_losses,\n",
    "                \"val_loss\": val_losses,\n",
    "            }\n",
    "            torch.save(actual_state, \"best_model.pth\")\n",
    "        last_best_result += 1\n",
    "        print(\n",
    "            \"epoch %d loss_train %4.3f loss_eval %4.3f last_best %d\"\n",
    "            % (n, train_losses[-1], val_losses[-1], last_best_result)\n",
    "        )\n",
    "        if last_best_result > patience_time:\n",
    "            break\n",
    "\n",
    "\n",
    "finetune_model()"
   ]
  },
  {
   "attachments": {},
   "cell_type": "markdown",
   "metadata": {},
   "source": [
    "## Model Evaluation\n"
   ]
  },
  {
   "attachments": {},
   "cell_type": "markdown",
   "metadata": {},
   "source": [
    "Recovering our model stats."
   ]
  },
  {
   "cell_type": "code",
   "execution_count": 104,
   "metadata": {
    "id": "z5We_cHWvCf8"
   },
   "outputs": [],
   "source": [
    "recover = torch.load(\n",
    "    \"/best_model.pth\",\n",
    "    map_location=torch.device(\"cuda:0\")\n",
    "    if torch.cuda.is_available()\n",
    "    else torch.device(\"cpu\"),\n",
    ")\n",
    "loss_train = recover[\"train_loss\"]\n",
    "loss_eval = recover[\"val_loss\"]\n",
    "epoch = recover[\"epoch\"]"
   ]
  },
  {
   "attachments": {},
   "cell_type": "markdown",
   "metadata": {},
   "source": [
    "Plotting a graph or our train loss and val(eval) loss."
   ]
  },
  {
   "cell_type": "code",
   "execution_count": 106,
   "metadata": {
    "colab": {
     "base_uri": "https://localhost:8080/",
     "height": 489
    },
    "id": "bgGwFmxsvdpM",
    "outputId": "ffdf57be-64b7-43b8-e9a8-2c535b7e3979"
   },
   "outputs": [
    {
     "data": {
      "text/plain": [
       "Text(0, 0.5, 'Loss')"
      ]
     },
     "execution_count": 106,
     "metadata": {},
     "output_type": "execute_result"
    },
    {
     "data": {
      "image/png": "[encoded data removed]",
      "text/plain": [
       "<Figure size 640x480 with 1 Axes>"
      ]
     },
     "metadata": {},
     "output_type": "display_data"
    }
   ],
   "source": [
    "fig, ax = plt.subplots()\n",
    "ax.set_title(\"model\")\n",
    "ax.plot(loss_train[1:], label=\"Train\")\n",
    "ax.plot(loss_eval[1:], label=\"Eval\")\n",
    "ax.legend()\n",
    "ax.set_xlabel(\"Epochs\")\n",
    "ax.set_ylabel(\"Loss\")"
   ]
  },
  {
   "attachments": {},
   "cell_type": "markdown",
   "metadata": {},
   "source": [
    "Reloading our model."
   ]
  },
  {
   "cell_type": "code",
   "execution_count": null,
   "metadata": {
    "colab": {
     "base_uri": "https://localhost:8080/"
    },
    "id": "njx0rfiYRQYD",
    "outputId": "aaa11736-9d55-4849-b5b3-14ae5cc3e85e"
   },
   "outputs": [],
   "source": [
    "model.load_state_dict(recover[\"model\"])"
   ]
  },
  {
   "attachments": {},
   "cell_type": "markdown",
   "metadata": {},
   "source": [
    "Setting up the device we're running."
   ]
  },
  {
   "cell_type": "code",
   "execution_count": 107,
   "metadata": {
    "id": "JYYbisGlP_gt"
   },
   "outputs": [],
   "source": [
    "device = torch.device(\"cuda:0\") if torch.cuda.is_available() else torch.device(\"cpu\")"
   ]
  },
  {
   "attachments": {},
   "cell_type": "markdown",
   "metadata": {},
   "source": [
    "Making prediction in our test dataset."
   ]
  },
  {
   "cell_type": "code",
   "execution_count": 108,
   "metadata": {
    "id": "M_0ivUgAO6nv"
   },
   "outputs": [],
   "source": [
    "model.eval()\n",
    "lres = []\n",
    "ytrue = []\n",
    "with torch.no_grad():\n",
    "    for step in range(len(test_idx)):\n",
    "        batch = val_idx.iloc[step]\n",
    "        input_ids = batch[\"text\"][\"input_ids\"].to(device)\n",
    "        token_type_ids = batch[\"text\"][\"token_type_ids\"].to(device)\n",
    "        attention_mask = batch[\"text\"][\"attention_mask\"].to(device)\n",
    "\n",
    "        output = model(\n",
    "            input_ids=input_ids,\n",
    "            token_type_ids=token_type_ids,\n",
    "            attention_mask=attention_mask,\n",
    "        )\n",
    "        res = output.logits.cpu()\n",
    "        ytrue += batch[\"labels\"]\n",
    "        lres += res"
   ]
  },
  {
   "attachments": {},
   "cell_type": "markdown",
   "metadata": {},
   "source": [
    "Setting our predictions list for comparison."
   ]
  },
  {
   "cell_type": "code",
   "execution_count": 111,
   "metadata": {
    "id": "JUYpWAOWTju8"
   },
   "outputs": [],
   "source": [
    "pred = [x.argmax(dim=0).cpu().tolist() for x in lres]"
   ]
  },
  {
   "cell_type": "markdown",
   "metadata": {},
   "source": [
    "Printing our model \"Real\" metrics with a confusion matrix for better visualization."
   ]
  },
  {
   "cell_type": "code",
   "execution_count": 112,
   "metadata": {
    "colab": {
     "base_uri": "https://localhost:8080/",
     "height": 745
    },
    "id": "30n66XViSqUs",
    "outputId": "9d8572b4-770e-438e-bf02-b62087534e49"
   },
   "outputs": [
    {
     "name": "stdout",
     "output_type": "stream",
     "text": [
      "                       model Metrics\n",
      "\n",
      "              precision    recall  f1-score   support\n",
      "\n",
      "           0       0.56      0.50      0.53        20\n",
      "           1       0.55      0.79      0.65        14\n",
      "           2       0.68      0.61      0.64        41\n",
      "\n",
      "    accuracy                           0.61        75\n",
      "   macro avg       0.59      0.63      0.60        75\n",
      "weighted avg       0.62      0.61      0.61        75\n",
      "\n",
      "Accuracy score  =  0.6133333333333333\n",
      "Precision score =  0.6201841841841842\n",
      "Recall score    =  0.6133333333333333\n",
      "\n"
     ]
    },
    {
     "data": {
      "text/plain": [
       "<sklearn.metrics._plot.confusion_matrix.ConfusionMatrixDisplay at 0x7fa7b8fb6aa0>"
      ]
     },
     "execution_count": 112,
     "metadata": {},
     "output_type": "execute_result"
    },
    {
     "data": {
      "image/png": "[encoded data removed]",
      "text/plain": [
       "<Figure size 640x480 with 2 Axes>"
      ]
     },
     "metadata": {},
     "output_type": "display_data"
    }
   ],
   "source": [
    "print(\"                       model Metrics\")\n",
    "print()\n",
    "print(metrics.classification_report(ytrue, pred))\n",
    "print(\"Accuracy score  = \", metrics.accuracy_score(ytrue, pred))\n",
    "print(\"Precision score = \", metrics.precision_score(ytrue, pred, average=\"weighted\"))\n",
    "print(\"Recall score    = \", metrics.recall_score(ytrue, pred, average=\"weighted\"))\n",
    "print()\n",
    "confusionmatrix = metrics.confusion_matrix(ytrue, pred)\n",
    "confusion = metrics.ConfusionMatrixDisplay(confusionmatrix)\n",
    "confusion.plot(xticks_rotation=\"vertical\")"
   ]
  }
 ],
 "metadata": {
  "accelerator": "GPU",
  "colab": {
   "gpuType": "T4",
   "provenance": []
  },
  "deepnote": {},
  "deepnote_execution_queue": [],
  "deepnote_notebook_id": "2c67efdd5a9f44e0a6b12f7b418e9d37",
  "gpuClass": "standard",
  "kernelspec": {
   "display_name": "Python 3",
   "name": "python3"
  },
  "language_info": {
   "name": "python"
  },
  "orig_nbformat": 2
 },
 "nbformat": 4,
 "nbformat_minor": 0
}
